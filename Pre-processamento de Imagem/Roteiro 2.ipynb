{
  "nbformat": 4,
  "nbformat_minor": 0,
  "metadata": {
    "colab": {
      "name": "Roteiro2.ipynb",
      "version": "0.3.2",
      "provenance": []
    },
    "kernelspec": {
      "display_name": "Python 3",
      "language": "python",
      "name": "python3"
    }
  },
  "cells": [
    {
      "metadata": {
        "id": "Bi6fq3pzBmWC",
        "colab_type": "code",
        "colab": {}
      },
      "cell_type": "code",
      "source": [
        "import numpy as np\n",
        "import matplotlib.pyplot as plt\n",
        "import os\n",
        "from skimage import exposure, io, filters\n",
        "from skimage import color, img_as_float, img_as_uint\n",
        "\n",
        "def toUint8(image):\n",
        "    return np.array(image, dtype=np.uint8)\n",
        "\n",
        "def normalize(img):\n",
        "    return (img-img.min())/(img.max()-img.min())\n",
        "\n",
        "def calcTrans(img):\n",
        "    rTransf = (img[:,:,0] - np.mean(img[:,:,0]))/(np.std(img[:,:,0]))\n",
        "    gTransf = (img[:,:,1] - np.mean(img[:,:,1]))/(np.std(img[:,:,1]))\n",
        "    bTransf = (img[:,:,2] - np.mean(img[:,:,2]))/(np.std(img[:,:,2]))\n",
        "\n",
        "    trans = img\n",
        "    trans[:,:,0] = rTransf\n",
        "    trans[:,:,1] = gTransf\n",
        "    trans[:,:,2] = bTransf\n",
        "    return trans\n",
        "\n",
        "def saveHist(file, image, cor, title):\n",
        "    fig, plot = plt.subplots()\n",
        "    plot.hist(image.flatten(), bins=256, facecolor=cor, histtype='step')\n",
        "    plot.set_title(title)\n",
        "    plt.savefig(file)\n",
        "    return\n",
        "\n",
        "def saveImgsHist(hist, pet, img1, img2, img3, img4):\n",
        "    if not os.path.exists('histograms/' + pet):\n",
        "        os.makedirs('histograms/' + pet)\n",
        "    \n",
        "    saveHist('histograms/' + pet + '/' + 'hist' + hist + '.'+ pet +'.jpg',   img1, 'blue',    hist + ' Hist. - Imagem Original')\n",
        "    saveHist('histograms/' + pet + '/' + 'hist' + hist + 'S.'+ pet +'.jpg',  img2, 'green',  hist + ' Hist. - Light Intensity Shift')\n",
        "    saveHist('histograms/' + pet + '/' + 'hist' + hist + 'C.'+ pet +'.jpg',  img3, 'orange', hist + ' Hist. - Light Intensity Change')\n",
        "    saveHist('histograms/' + pet + '/' + 'hist' + hist + 'CS.'+ pet +'.jpg', img4, 'red',   hist + ' Hist. - Light Intensity Change and Shift')"
      ],
      "execution_count": 0,
      "outputs": []
    },
    {
      "metadata": {
        "id": "HkHkE9FuBmWY",
        "colab_type": "code",
        "colab": {}
      },
      "cell_type": "code",
      "source": [
        "pet = 'cat.' + str(np.random.randint(5000))\n",
        "\n",
        "img = (io.imread('train/cats/'+ pet +'.jpg'))\n",
        "#Normalizar \n",
        "img = normalize(img)\n",
        "\n",
        "a = 6\n",
        "b = 20\n",
        "multiplier = [a, a, a]\n",
        "sum = [b, b, b]\n",
        "\n",
        "imgChange = img * multiplier\n",
        "#imgChange = normalize(imgChange)\n",
        "\n",
        "imgShift = img + sum\n",
        "#imgShift = normalize(imgShift)\n",
        "\n",
        "imgChSh = img * multiplier + sum\n",
        "#imgChSh = normalize(imgChSh)"
      ],
      "execution_count": 0,
      "outputs": []
    },
    {
      "metadata": {
        "id": "WyhLHgp2BmWj",
        "colab_type": "code",
        "colab": {}
      },
      "cell_type": "code",
      "source": [
        "if not os.path.exists('histograms/' + pet):\n",
        "    os.makedirs('histograms/' + pet)\n",
        "\n",
        "saveHist('histograms/' + pet + '/' + 'histRGB.'+ pet +'.jpg', img, 'blue', 'Imagem Original')\n",
        "saveHist('histograms/' + pet + '/' + 'histRGBC.'+ pet +'.jpg', imgChange, 'orange', 'RGB Hist. - Light Intensity Change')\n",
        "saveHist('histograms/' + pet + '/' + 'histRGBS.'+ pet +'.jpg', imgShift, 'green', 'RGB Hist. - Light Intensity Shift')\n",
        "saveHist('histograms/' + pet + '/' + 'histRGBCS.'+ pet +'.jpg', imgChSh, 'red', 'RGB Hist. - Light Intensity Change And Shift')\n",
        "\n",
        "#fig, ((hist, histC, histS, histCS), (im, imC, imS, imCS)) = plt.subplots(2, 4, figsize=(20,20))\n",
        "\n",
        "#hist.hist(img.flatten(), bins=256, facecolor='orange')\n",
        "#histC.hist(imgChange.flatten(), bins=256, facecolor='green')\n",
        "#histS.hist(imgShift.flatten(), bins=256, facecolor='blue')\n",
        "#histCS.hist(imgChSh.flatten(), bins=256, facecolor='red')\n",
        "\n",
        "#im.imshow(img)\n",
        "#imC.imshow(imgChange)\n",
        "#imS.imshow(imgShift)\n",
        "#imCS.imshow(imgChSh)\n",
        "\n",
        "#plt.savefig('fig.jpg')"
      ],
      "execution_count": 0,
      "outputs": []
    },
    {
      "metadata": {
        "id": "zIoUbEBPBmWz",
        "colab_type": "code",
        "colab": {}
      },
      "cell_type": "code",
      "source": [
        "hist = 'O1'\n",
        "\n",
        "imgO1 = img[:,:,0] - img[:,:,1]\n",
        "imgO1 = imgO1/np.sqrt(2)\n",
        "\n",
        "imgO1C = imgChange[:,:,0] - imgChange[:,:,1]\n",
        "imgO1C = imgO1C/np.sqrt(2) \n",
        "\n",
        "imgO1S = imgShift[:,:,0] - imgShift[:,:,1]\n",
        "imgO1S = imgO1S/np.sqrt(2)\n",
        "\n",
        "imgO1CS = imgChSh[:,:,0] - imgChSh[:,:,1]\n",
        "imgO1CS = imgO1CS/np.sqrt(2)\n",
        "\n",
        "saveImgsHist(hist, pet, imgO1, imgO1S, imgO1C, imgO1CS)"
      ],
      "execution_count": 0,
      "outputs": []
    },
    {
      "metadata": {
        "id": "S74Y5La-BmXA",
        "colab_type": "code",
        "colab": {}
      },
      "cell_type": "code",
      "source": [
        "hist = 'O2'\n",
        "\n",
        "imgO2 = img[:,:,0] + img[:,:,1] - 2*img[:,:,2]\n",
        "imgO2 = imgO2/np.sqrt(6)\n",
        "\n",
        "imgO2C = imgChange[:,:,0] + imgChange[:,:,1] - 2*imgChange[:,:,2]\n",
        "imgO2C = imgO2C/np.sqrt(6)\n",
        "\n",
        "imgO2S = imgShift[:,:,0] + imgShift[:,:,1] - 2*imgShift[:,:,2]\n",
        "imgO2S = imgO2S/np.sqrt(6)\n",
        "\n",
        "imgO2CS = imgChSh[:,:,0] + imgChSh[:,:,1] - 2*imgChSh[:,:,2]\n",
        "imgO2CS = imgO2CS/np.sqrt(6)\n",
        "\n",
        "saveImgsHist(hist, pet, imgO2, imgO2S, imgO2C, imgO2CS)"
      ],
      "execution_count": 0,
      "outputs": []
    },
    {
      "metadata": {
        "id": "ZeJP6KHIBmXO",
        "colab_type": "code",
        "colab": {}
      },
      "cell_type": "code",
      "source": [
        "hist = 'Transf. Color'\n",
        "\n",
        "transOrig   = calcTrans(img)\n",
        "transShift  = calcTrans(imgShift)\n",
        "transChange = calcTrans(imgChange)\n",
        "transChSh   = calcTrans(imgChSh)\n",
        "\n",
        "saveImgsHist(hist, pet, transOrig, transShift, transChange, transChSh)"
      ],
      "execution_count": 0,
      "outputs": []
    },
    {
      "metadata": {
        "id": "vcczWJdUBmXh",
        "colab_type": "code",
        "colab": {}
      },
      "cell_type": "code",
      "source": [
        ""
      ],
      "execution_count": 0,
      "outputs": []
    },
    {
      "metadata": {
        "id": "dv5SMThmBmX3",
        "colab_type": "code",
        "colab": {}
      },
      "cell_type": "code",
      "source": [
        ""
      ],
      "execution_count": 0,
      "outputs": []
    }
  ]
}