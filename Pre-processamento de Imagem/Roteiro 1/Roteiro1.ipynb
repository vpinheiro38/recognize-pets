{
  "nbformat": 4,
  "nbformat_minor": 0,
  "metadata": {
    "colab": {
      "name": "Roteiro1.ipynb",
      "version": "0.3.2",
      "provenance": []
    },
    "kernelspec": {
      "display_name": "Python 3",
      "language": "python",
      "name": "python3"
    }
  },
  "cells": [
    {
      "metadata": {
        "id": "iJNsSadv-VrW",
        "colab_type": "code",
        "colab": {},
        "outputId": "f3bc31d5-723b-48a9-da3b-8169342e15c7"
      },
      "cell_type": "code",
      "source": [
        "import os\n",
        "import numpy as np\n",
        "import matplotlib.pyplot as plt\n",
        "from skimage import exposure, io, filters, color, transform\n",
        "\n",
        "def toUint8(image):\n",
        "    return np.array(image, dtype=np.uint8)\n",
        "\n",
        "for data in list(['train']):\n",
        "    for animal in list(['cat', 'dog']):\n",
        "        for n in range(0, 5000):\n",
        "            numberJpg = str(n) + '.jpg'\n",
        "            imgRoot = io.imread(data + '/' + str(animal) + 's/' + str(animal) + '.' + str(n) + \".jpg\")\n",
        "            imgRoot = transform.resize(imgRoot, (40, 40))\n",
        "\n",
        "            imgGray = color.rgb2gray(imgRoot)\n",
        "            imgGray = imgGray*255.0/imgGray.max()\n",
        "\n",
        "            imgHist = exposure.equalize_hist(imgGray, nbins=256)\n",
        "            \n",
        "            imgGaus1 = filters.gaussian(imgGray, 1)\n",
        "            imgLapGaus1 = filters.laplace(imgGaus1, ksize=3)\n",
        "\n",
        "            imgGaus = filters.gaussian(imgGray, 2)\n",
        "            imgLapGaus = filters.laplace(imgGaus, ksize=3)\n",
        "\n",
        "            imgGaus2 = filters.gaussian(imgGray, 2.5)\n",
        "            imgLapGaus2 = filters.laplace(imgGaus2, ksize=3)\n",
        "\n",
        "            imgLap = filters.laplace(imgGray, ksize=3)\n",
        "\n",
        "            imgGamma1 = exposure.adjust_gamma(imgGray, 0.6)\n",
        "            imgGamma2 = exposure.adjust_gamma(imgGray, 1.3)\n",
        "            imgGamma3 = exposure.adjust_gamma(imgGray, 1.7)\n",
        "\n",
        "            imgGamma1 *= 255.0/imgGamma1.max()\n",
        "            imgGamma2 *= 255.0/imgGamma2.max()\n",
        "            imgGamma3 *= 255.0/imgGamma3.max()\n",
        "\n",
        "            eqHistPath   = data + '/' + str(animal) + 's/dataset40/eqhist/' + str(animal) + '.' + numberJpg\n",
        "            os.makedirs(os.path.dirname(eqHistPath), exist_ok=True)\n",
        "            gausPath     = data + '/' + str(animal) + 's/dataset40/gaussian/' + str(animal) + '.' + numberJpg\n",
        "            os.makedirs(os.path.dirname(gausPath), exist_ok=True)\n",
        "            lapGaus1Path  = data + '/' + str(animal) + 's/dataset40/laplaceg1/' + str(animal) + '.' + numberJpg\n",
        "            os.makedirs(os.path.dirname(lapGaus1Path), exist_ok=True)\n",
        "            lapGausPath  = data + '/' + str(animal) + 's/dataset40/laplaceg/' + str(animal) + '.' + numberJpg\n",
        "            os.makedirs(os.path.dirname(lapGausPath), exist_ok=True)\n",
        "            lapGaus2Path = data + '/' + str(animal) + 's/dataset40/laplaceg2/' + str(animal) + '.' + numberJpg\n",
        "            os.makedirs(os.path.dirname(lapGaus2Path), exist_ok=True)\n",
        "            lapPath      = data + '/' + str(animal) + 's/dataset40/laplace/' + str(animal) + '.' + numberJpg\n",
        "            os.makedirs(os.path.dirname(lapPath), exist_ok=True)\n",
        "            gamma1Path   = data + '/' + str(animal) + 's/dataset40/gamma1/' + str(animal) + '.' + numberJpg\n",
        "            os.makedirs(os.path.dirname(gamma1Path), exist_ok=True)\n",
        "            gamma2Path   = data + '/' + str(animal) + 's/dataset40/gamma2/' + str(animal) + '.' + numberJpg\n",
        "            os.makedirs(os.path.dirname(gamma2Path), exist_ok=True)     \n",
        "            gamma3Path   = data + '/' + str(animal) + 's/dataset40/gamma3/' + str(animal) + '.' + numberJpg\n",
        "            os.makedirs(os.path.dirname(gamma3Path), exist_ok=True)\n",
        "\n",
        "            io.imsave(eqHistPath, imgHist, cmap='gray')\n",
        "            io.imsave(gausPath, toUint8(imgGaus), cmap='gray')\n",
        "            io.imsave(lapGaus1Path, toUint8(imgLapGaus1), cmap='gray')\n",
        "            io.imsave(lapGausPath, toUint8(imgLapGaus), cmap='gray')\n",
        "            io.imsave(lapGaus2Path, toUint8(imgLapGaus2), cmap='gray')\n",
        "            io.imsave(lapPath, toUint8(imgLap), cmap='gray')\n",
        "            io.imsave(gamma1Path, toUint8(imgGamma1), cmap='gray')\n",
        "            io.imsave(gamma2Path, toUint8(imgGamma2), cmap='gray')  \n",
        "            io.imsave(gamma3Path, toUint8(imgGamma3), cmap='gray')\n",
        "            \n",
        "print('Roteiro 1 - Processo concluido!')            "
      ],
      "execution_count": 0,
      "outputs": [
        {
          "output_type": "stream",
          "text": [
            "C:\\Users\\Victor\\Anaconda3\\lib\\site-packages\\skimage\\transform\\_warps.py:105: UserWarning: The default mode, 'constant', will be changed to 'reflect' in skimage 0.15.\n",
            "  warn(\"The default mode, 'constant', will be changed to 'reflect' in \"\n",
            "C:\\Users\\Victor\\Anaconda3\\lib\\site-packages\\skimage\\transform\\_warps.py:110: UserWarning: Anti-aliasing will be enabled by default in skimage 0.15 to avoid aliasing artifacts when down-sampling images.\n",
            "  warn(\"Anti-aliasing will be enabled by default in skimage 0.15 to \"\n",
            "C:\\Users\\Victor\\Anaconda3\\lib\\site-packages\\skimage\\restoration\\uft.py:447: FutureWarning: Using a non-tuple sequence for multidimensional indexing is deprecated; use `arr[tuple(seq)]` instead of `arr[seq]`. In the future this will be interpreted as an array index, `arr[np.array(seq)]`, which will result either in an error or a different result.\n",
            "  impr[([slice(1, 2)] * ndim)] = 2.0 * ndim\n",
            "C:\\Users\\Victor\\Anaconda3\\lib\\site-packages\\skimage\\util\\dtype.py:130: UserWarning: Possible precision loss when converting from float64 to uint8\n",
            "  .format(dtypeobj_in, dtypeobj_out))\n"
          ],
          "name": "stderr"
        },
        {
          "output_type": "stream",
          "text": [
            "Roteiro 1 - Processo concluido!\n"
          ],
          "name": "stdout"
        }
      ]
    },
    {
      "metadata": {
        "id": "BiFbyGsd-Vrr",
        "colab_type": "code",
        "colab": {}
      },
      "cell_type": "code",
      "source": [
        ""
      ],
      "execution_count": 0,
      "outputs": []
    }
  ]
}